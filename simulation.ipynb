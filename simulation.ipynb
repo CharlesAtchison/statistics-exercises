{
 "cells": [
  {
   "cell_type": "markdown",
   "id": "9710e65e",
   "metadata": {},
   "source": [
    "# Simulations Exercises"
   ]
  },
  {
   "cell_type": "code",
   "execution_count": 1,
   "id": "e0f51e4d",
   "metadata": {},
   "outputs": [],
   "source": [
    "import numpy as np\n",
    "import pandas as pd"
   ]
  },
  {
   "cell_type": "markdown",
   "id": "46789a75",
   "metadata": {},
   "source": [
    "### 1. How likely is it that you roll doubles when rolling two dice?\n",
    "\n",
    "* _answer_: __There is about a 16.7% chance that you will roll doubles when rolling two dice.__"
   ]
  },
  {
   "cell_type": "code",
   "execution_count": 149,
   "id": "309e077e",
   "metadata": {},
   "outputs": [
    {
     "name": "stdout",
     "output_type": "stream",
     "text": [
      "16.7096\n"
     ]
    }
   ],
   "source": [
    "outcomes = [1, 2 ,3, 4, 5, 6]\n",
    "n_simulations = 1_000_000\n",
    "n_trials = 2 # number of dice\n",
    "\n",
    "rolls = np.random.choice(outcomes, size=(n_simulations, n_trials))\n",
    "val = [True for roll in rolls if np.all(roll == roll[0])]\n",
    "print(len(val)/len(rolls)*100)\n",
    "\n"
   ]
  },
  {
   "cell_type": "markdown",
   "id": "fcda0eac",
   "metadata": {},
   "source": [
    "### 2. If you flip 8 coins, what is the probability of getting exactly 3 heads? What is the probability of getting more than 3 heads?\n",
    "\n",
    "_answer1_: __There is about 21.85% chance to get exactly 3 heads.__\n",
    "\n",
    "_answer2_: __There is about 63.69% chance to get more than 3 heads__"
   ]
  },
  {
   "cell_type": "code",
   "execution_count": 3,
   "id": "2131762f",
   "metadata": {},
   "outputs": [
    {
     "name": "stdout",
     "output_type": "stream",
     "text": [
      "There is about 21.87% chance to get exactly 3 heads.\n",
      "There is about 63.72% chance to get more than 3 heads\n"
     ]
    }
   ],
   "source": [
    "outcomes = [True, False] # Use True if it's heads, False if it's Tails\n",
    "n_simulations = 1_000_000\n",
    "n_trials = 8 # number of coins\n",
    "\n",
    "flips = np.random.choice(outcomes, size=(n_simulations, n_trials))\n",
    "\n",
    "sum_of_flips = flips.sum(axis=1)\n",
    "heads_3 = (sum_of_flips == 3).sum()\n",
    "more_than3 = (sum_of_flips > 3).sum()\n",
    "\n",
    "print(f'There is about {heads_3/len(flips)*100:0.2f}% chance to get exactly 3 heads.')\n",
    "print(f'There is about {more_than3/len(flips)*100:0.2f}% chance to get more than 3 heads')"
   ]
  },
  {
   "cell_type": "markdown",
   "id": "c280466e",
   "metadata": {},
   "source": [
    "### 3. There are approximitely 3 web development cohorts for every 1 data science cohort at Codeup. Assuming that Codeup randomly selects an alumni to put on a billboard, what are the odds that the two billboards I drive past both have data science students on them?\n",
    "\n",
    "_answer_: __There is about 6.29% chance for both billboards to be data science.__"
   ]
  },
  {
   "cell_type": "code",
   "execution_count": 4,
   "id": "ec02c8e9",
   "metadata": {},
   "outputs": [
    {
     "name": "stdout",
     "output_type": "stream",
     "text": [
      "There is about 6.26% chance for both billboards to be data science.\n"
     ]
    }
   ],
   "source": [
    "\n",
    "# True is a data science course, False is web_dev\n",
    "outcomes = [True, False, False, False] \n",
    "\n",
    "n_simulations = 1_000_000\n",
    "n_trials = 2 # number of billboards\n",
    "\n",
    "billboards = np.random.choice(outcomes, size=(n_simulations, n_trials))\n",
    "\n",
    "sum_of_billboards = billboards.sum(axis=1) # sums number of Trues within each array\n",
    "\n",
    "two_billboards = (sum_of_billboards == 2).sum() # Counts number of sum of 2 billboards\n",
    "\n",
    "p = round(two_billboards/len(billboards) * 100, 2)\n",
    "print(f'There is about {p}% chance for both billboards to be data science.')\n",
    "\n",
    "\n"
   ]
  },
  {
   "cell_type": "markdown",
   "id": "c71a470f",
   "metadata": {},
   "source": [
    "### 4. Codeup students buy, on average, 3 poptart packages (+- 1.5) a day from the snack vending machine. If on monday the machine is restocked with 17 poptart packages, how likely is it that I will be able to buy some poptarts on Friday afternoon?\n",
    "\n",
    "_answer_: __There is about a 67% likelihood that you could buy at least 1 poptart.__"
   ]
  },
  {
   "cell_type": "code",
   "execution_count": 36,
   "id": "861330be",
   "metadata": {},
   "outputs": [
    {
     "name": "stdout",
     "output_type": "stream",
     "text": [
      "There is about a 67% likelihood that you could buy at least 1 poptart.\n"
     ]
    }
   ],
   "source": [
    "daily_drawdown= np.random.normal(3.0, 1.5, (1000000, 5))\n",
    "weekly_sum = daily_drawdown.sum(axis=1)\n",
    "weekly_sum_rounded = np.round(weekly_sum)\n",
    "times_i_can_buy = (weekly_sum_rounded < 17).sum() # Choose to use 16.5 to r\n",
    "p = round((times_i_can_buy/len(daily_drawdown)) * 100)\n",
    "print(f'There is about a {p}% likelihood that you could buy at least 1 poptart.')\n"
   ]
  },
  {
   "cell_type": "markdown",
   "id": "5dbd778e",
   "metadata": {},
   "source": [
    "### 5. Compare Heights\n",
    "\n",
    "* Men have an average height of 178 cm and standard deviation of 8cm.\n",
    "* Women have a mean of 170, sd = 6cm.\n",
    "* Since you have means and standard deviations, you can use np.random.normal to generate observations.\n",
    "* If a man and woman are chosen at random, P(woman taller than man)?\n",
    "\n",
    "_answer_: __The probability that a female is taller than a male at random is 21%__"
   ]
  },
  {
   "cell_type": "code",
   "execution_count": 45,
   "id": "ae06eb3a",
   "metadata": {},
   "outputs": [
    {
     "name": "stdout",
     "output_type": "stream",
     "text": [
      "The probability that a female is taller than a male at random is 21%\n"
     ]
    }
   ],
   "source": [
    "male_avg_height = np.random.normal(178, 8, 100000)\n",
    "female_avg_height = np.random.normal(170, 6, 100000)\n",
    "count_of_taller_females = (female_avg_height > male_avg_height).sum()\n",
    "p = round(count_of_taller_females/len(male_avg_height) * 100)\n",
    "print(f'The probability that a female is taller than a male at random is {p}%')\n",
    "\n",
    "\n"
   ]
  },
  {
   "cell_type": "markdown",
   "id": "580b29c6",
   "metadata": {},
   "source": [
    "### 6. When installing anaconda on a student's computer, there's a 1 in 250 chance that the download is corrupted and the installation fails. What are the odds that after having 50 students download anaconda, no one has an installation issue? 100 students?\n",
    "\n",
    "* 50 Students?\n",
    "_answer_: __There is an 82% chance that no one has had an installation issue for 50 students.__\n",
    "\n",
    "\n",
    "* 100 Students?\n",
    "_answer_: __There is an 67% chance that no one has had an installation issue for 100 students.__\n",
    "\n",
    "\n",
    "* What is the probability that we observe an installation issue within the first 150 students that download anaconda?\n",
    "_answer_: __There is an 33% chance that there will be an installation issue within the first 150 students.__\n",
    "\n",
    "\n",
    "\n",
    "* How likely is it that 450 students all download anaconda without an issue?\n",
    "_answer_: __There is an 16% chance that no one has had an installation issue for 450 students.__\n",
    "\n"
   ]
  },
  {
   "cell_type": "code",
   "execution_count": 79,
   "id": "7806d9c3",
   "metadata": {},
   "outputs": [
    {
     "name": "stdout",
     "output_type": "stream",
     "text": [
      "16\n"
     ]
    }
   ],
   "source": [
    "a_outcomes = [False for n in range(249)] # To generate 249 falses as outcomes\n",
    "# Add the 1 True value where the installation issue occurs\n",
    "a_outcomes.append(True) \n",
    "\n",
    "students50, students100 = 50, 100\n",
    "n_simulations = 1_000_000\n",
    "\n",
    "\n",
    "anaconda_failures = np.random.choice(a_outcomes, size=(n_simulations, 50))\n",
    "sum_of_failures = anaconda_failures.sum(axis=1)\n",
    "num_of_failures = (sum_of_failures == 0).sum()\n",
    "p = round(num_of_failures/len(anaconda_failures) * 100)\n",
    "print(p)\n"
   ]
  },
  {
   "cell_type": "markdown",
   "id": "9f09a2c9",
   "metadata": {},
   "source": [
    "### 7. There's a 70% chance on any given day that there will be at least one food truck at Travis Park. However, you haven't seen a food truck there in 3 days. How unlikely is this?\n",
    "\n",
    "_answer_: __There is a 2.68% likelihood that the food truck will not show up for 3 days in a row.__\n",
    "\n",
    "### How likely is it that a food truck will show up sometime this week?\n",
    "\n",
    "_answer_: __There is a 99.98% likelihood that the food truck will show up sometime this week.__"
   ]
  },
  {
   "cell_type": "code",
   "execution_count": 176,
   "id": "0e3be9f9",
   "metadata": {},
   "outputs": [
    {
     "data": {
      "text/plain": [
       "2.6761"
      ]
     },
     "execution_count": 176,
     "metadata": {},
     "output_type": "execute_result"
    }
   ],
   "source": [
    "# Create bool calcuations where True is that the 70% food truck showed up\n",
    "# truck_outcomes = [True for n in range(70)]\n",
    "\n",
    "# # Add the False values for the 30% chance that it doesn't happen\n",
    "# truck_outcomes.extend([False for n in range(30)])\n",
    "truck_showsup = [True, False]\n",
    "\n",
    "days_to_test = 3 # because we are testing multiple day periods\n",
    "n_simulations = 1_000_000\n",
    "\n",
    "\n",
    "food_truck_days = np.random.choice(truck_showsup, size=(n_simulations, days_to_test), p=(.70, .30))\n",
    "num_of_no_shows = (food_truck_days.sum(axis=1) == 0).mean() * 100\n",
    "num_of_no_shows"
   ]
  },
  {
   "cell_type": "markdown",
   "id": "c1152ec7",
   "metadata": {},
   "source": [
    "### 8. If 23 people are in the same room, what are the odds that two of them share a birthday? What if it's 20 people? 40?\n",
    "\n",
    "* 23 People\n",
    "\n",
    " *  _answer_: __There is a 51% chance that someone will have the same birthday as someone else.__\n",
    "\n",
    "* 20 People\n",
    "\n",
    " *  _answer_: __There is a 41% chance that someone will have the same birthday as someone else.__\n",
    " \n",
    "* 40 People\n",
    "\n",
    " *  _answer_: __There is a 89% chance that someone will have the same birthday as someone else.__"
   ]
  },
  {
   "cell_type": "code",
   "execution_count": 233,
   "id": "3fdd7fe9",
   "metadata": {},
   "outputs": [],
   "source": [
    "birthdays = [n for n in range(365)] # Because there are 365 days in a year\n",
    "\n",
    "number_of_people = 40 \n",
    "n_simulations = 100_000\n",
    "\n",
    "\n",
    "birthday_iterations = np.random.choice(birthdays, size=(n_simulations, number_of_people))\n",
    "\n",
    "num_of_birthdays_in_common = 0\n",
    "\n",
    "for arr in birthday_iterations:\n",
    "    day, count = np.unique(arr, return_counts=True)\n",
    "    _ = day[count > 1]\n",
    "    if len(_) != 0:\n",
    "        num_of_birthdays_in_common += 1\n",
    "\n",
    "p = round(num_of_birthdays_in_common/len(birthday_iterations) * 100)"
   ]
  },
  {
   "cell_type": "markdown",
   "id": "66ba1392",
   "metadata": {},
   "source": [
    "# Mage Duel!\n",
    "\n",
    "### Let's use what we've learned to play a mage duel!\n",
    "\n",
    "* Imagine your wizard has 6d4 health points and you have spells that do 6d4 damage. \"6d4\" means rolling six 4-sided dice and summing the result.\n",
    "\n",
    "* Your opposing mage has 4d6 health points and spells that do 4d6. \"4d6\" means rolling four six-sided dice and summing the result.\n",
    "\n",
    "* Exercises\n",
    "\n",
    "* Simulate mage duels to answer who is the more powerful mage?\n",
    "\n",
    "* Before running simulations, do you have a hypothesis of which mage will win? Do you have a hunch? Write it down. This is your first exercise.\n",
    "    * ___I think the wizard with 6d4 will win because of the increase in the number of dice, despite the lower values of each dice.___\n",
    "\n",
    "\n",
    "* Simulate 10 mage duels. Is there a clear winner?\n",
    "\n",
    "    * ___The wizard with the 6d4 won 70% of the duels, which is a clear winner.___\n",
    "\n",
    "* Run that 10 duel simulation again. Was the answer similar?\n",
    "\n",
    "    * ___The wizard with the 6d4 won 40% of the duels, which is a clear loser.___\n",
    "\n",
    "* Do the results change much at 100 duels?\n",
    "\n",
    "    * ___The wizard with the 6d4 won 45% of the duels, which isn't a clear winner/loser.___\n",
    "    \n",
    "* Now, simulate 10,000 mage duels. Is there a clear winner?\n",
    "\n",
    "    * ___The wizard with the 6d4 won 55% of the duels, which is a slight advantage for the wizard.___"
   ]
  },
  {
   "cell_type": "code",
   "execution_count": 191,
   "id": "665b77be",
   "metadata": {},
   "outputs": [
    {
     "name": "stdout",
     "output_type": "stream",
     "text": [
      "0.5486\n"
     ]
    }
   ],
   "source": [
    "six_sided_dice = [1,2,3,4,5,6]\n",
    "four_sided_dice = [1,2,3,4]\n",
    "\n",
    "num_of_duels = 10000\n",
    "\n",
    "wizard_won = list()\n",
    "\n",
    "def wizard():\n",
    "    ''' This is to simulate each of the wizard's weighted roll\n",
    "    6d4\n",
    "    '''\n",
    "    return np.random.choice(four_sided_dice, size=(1, 6)).sum(axis=1)\n",
    "\n",
    "def opponent():\n",
    "    ''' This is to simulate each of the wizard's opponent's weighted roll\n",
    "    4d6\n",
    "    '''\n",
    "    return np.random.choice(six_sided_dice, size=(1, 4)).sum(axis=1)\n",
    "\n",
    "for each_battle in range(num_of_duels):\n",
    "    wizard_hp = wizard()\n",
    "    opposing_wizard_hp = opponent()\n",
    "    game_over = False\n",
    "    \n",
    "    wizard_goes_first = np.random.choice([True, False], size=1)[0]\n",
    "    \n",
    "    while not game_over:\n",
    "        if wizard_hp < 0 or opposing_wizard_hp < 0:\n",
    "            game_over = True\n",
    "        else:\n",
    "            attack = 0\n",
    "            if wizard_goes_first:\n",
    "                attack = wizard()\n",
    "                opposing_wizard_hp -= attack\n",
    "            else:\n",
    "                attack = opponent()\n",
    "                wizard_hp -= attack\n",
    "            wizard_goes_first = not wizard_goes_first          \n",
    "    if wizard_hp > 0:\n",
    "#         print('Wizard won!')\n",
    "        wizard_won.append(True)\n",
    "    else:\n",
    "#         print('Wizard lost')\n",
    "        wizard_won.append(False)\n",
    "    \n",
    "print(np.array(wizard_won).mean())\n",
    "            \n",
    "        \n",
    "    \n"
   ]
  },
  {
   "attachments": {
    "image.png": {
     "image/png": "[encoded data removed]"
    }
   },
   "cell_type": "markdown",
   "id": "add5c9dc",
   "metadata": {},
   "source": [
    "# Chuck-a-luck\n",
    "\n",
    "### Exercises:\n",
    "\n",
    "* What are your chances of getting an outcome payout of 2? (where we earned 3 on the 1 ante)\n",
    "\n",
    "    * ___Your chances for this outcome is about 4.77%.___\n",
    "\n",
    "* What are your chances of getting an payout of 1?\n",
    "\n",
    "    * ___Your chances for this outcome is about 6.9%.___\n",
    "\n",
    "* What are your chances of getting a payout of 0 where you ante 1 and win 1?\n",
    "\n",
    "    * ___Your chances for this outcome is about 35%.___\n",
    "\n",
    "* What are your chances of getting a payout of -1 where you ante up, but don't win anything?\n",
    "\n",
    "    * ___Your chances for this outcome is about 57.7%.___\n",
    "\n",
    "* What is the average cost/gain per game? (think of averaging the total payout calculation across all simulations)\n",
    "\n",
    "    * ___Average cost/gain per game is a loss of .4979 per game.___\n",
    "\n",
    "\n",
    "* Chart out a histogram of all the outcomes of those 1,000,000 games\n",
    "\n",
    "![image.png](attachment:image.png)\n",
    "\n",
    "* Is this really a fair game of 1/6 + 1/6 + 1/6 odds?\n",
    "\n",
    "    * ___Not even close, your cumulative chance to make any money is about 11.5%.___\n",
    "\n",
    "\n",
    "\n",
    "\n",
    "* If you play 1,000,000 games in a row, what are your winnings or losses?\n",
    " * ___My losses would be 499,768 dollars, so no thank you...___\n",
    "\n"
   ]
  },
  {
   "cell_type": "code",
   "execution_count": 243,
   "id": "ba6ce800",
   "metadata": {},
   "outputs": [
    {
     "data": {
      "text/plain": [
       "-499768"
      ]
     },
     "execution_count": 243,
     "metadata": {},
     "output_type": "execute_result"
    }
   ],
   "source": [
    "outcomes = [1, 2 ,3, 4, 5, 6]\n",
    "n_simulations = 1000000\n",
    "n_trials = 3 # number of dice\n",
    "number_chosen = 1\n",
    "\n",
    "house_rolls = np.random.choice(outcomes, size=(n_simulations, n_trials))\n",
    "your_counts = np.array([np.count_nonzero(roll == number_chosen) for roll in house_rolls])\n",
    "\n",
    "your_counts.sum() - n_simulations"
   ]
  },
  {
   "cell_type": "code",
   "execution_count": 244,
   "id": "ef1ba4a9",
   "metadata": {
    "scrolled": false
   },
   "outputs": [
    {
     "data": {
      "text/plain": [
       "<AxesSubplot:ylabel='Count'>"
      ]
     },
     "execution_count": 244,
     "metadata": {},
     "output_type": "execute_result"
    },
    {
     "data": {
      "image/png": "[encoded data removed]",
      "text/plain": [
       "<Figure size 432x288 with 1 Axes>"
      ]
     },
     "metadata": {
      "needs_background": "light"
     },
     "output_type": "display_data"
    }
   ],
   "source": [
    "import seaborn as sns\n",
    "\n",
    "sns.histplot(house_rolls)"
   ]
  }
 ],
 "metadata": {
  "kernelspec": {
   "display_name": "Python 3",
   "language": "python",
   "name": "python3"
  },
  "language_info": {
   "codemirror_mode": {
    "name": "ipython",
    "version": 3
   },
   "file_extension": ".py",
   "mimetype": "text/x-python",
   "name": "python",
   "nbconvert_exporter": "python",
   "pygments_lexer": "ipython3",
   "version": "3.8.8"
  }
 },
 "nbformat": 4,
 "nbformat_minor": 5
}
